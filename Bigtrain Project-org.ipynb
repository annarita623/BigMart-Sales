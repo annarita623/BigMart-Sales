{
 "cells": [
  {
   "cell_type": "code",
   "execution_count": 260,
   "id": "b64548f2",
   "metadata": {},
   "outputs": [],
   "source": [
    "import numpy as np\n",
    "import matplotlib.pyplot as plt\n",
    "import pandas as pd\n",
    "import seaborn as sns"
   ]
  },
  {
   "cell_type": "code",
   "execution_count": 261,
   "id": "71aa2c85",
   "metadata": {},
   "outputs": [
    {
     "name": "stdout",
     "output_type": "stream",
     "text": [
      "C:\\Users\\v-rakul\\Desktop\n"
     ]
    }
   ],
   "source": [
    "import io\n",
    "%cd \"C:\\Users\\v-rakul\\Desktop\""
   ]
  },
  {
   "cell_type": "code",
   "execution_count": 262,
   "id": "404e6087",
   "metadata": {},
   "outputs": [],
   "source": [
    "train=pd.read_csv(r\"C:\\Users\\v-rakul\\Desktop\\train_v9rqX0R.csv\")"
   ]
  },
  {
   "cell_type": "code",
   "execution_count": 263,
   "id": "3c1b0f73",
   "metadata": {},
   "outputs": [
    {
     "data": {
      "text/html": [
       "<div>\n",
       "<style scoped>\n",
       "    .dataframe tbody tr th:only-of-type {\n",
       "        vertical-align: middle;\n",
       "    }\n",
       "\n",
       "    .dataframe tbody tr th {\n",
       "        vertical-align: top;\n",
       "    }\n",
       "\n",
       "    .dataframe thead th {\n",
       "        text-align: right;\n",
       "    }\n",
       "</style>\n",
       "<table border=\"1\" class=\"dataframe\">\n",
       "  <thead>\n",
       "    <tr style=\"text-align: right;\">\n",
       "      <th></th>\n",
       "      <th>Item_Identifier</th>\n",
       "      <th>Item_Weight</th>\n",
       "      <th>Item_Fat_Content</th>\n",
       "      <th>Item_Visibility</th>\n",
       "      <th>Item_Type</th>\n",
       "      <th>Item_MRP</th>\n",
       "      <th>Outlet_Identifier</th>\n",
       "      <th>Outlet_Establishment_Year</th>\n",
       "      <th>Outlet_Size</th>\n",
       "      <th>Outlet_Location_Type</th>\n",
       "      <th>Outlet_Type</th>\n",
       "      <th>Item_Outlet_Sales</th>\n",
       "    </tr>\n",
       "  </thead>\n",
       "  <tbody>\n",
       "    <tr>\n",
       "      <th>0</th>\n",
       "      <td>FDA15</td>\n",
       "      <td>9.30</td>\n",
       "      <td>Low Fat</td>\n",
       "      <td>0.016047</td>\n",
       "      <td>Dairy</td>\n",
       "      <td>249.8092</td>\n",
       "      <td>OUT049</td>\n",
       "      <td>1999</td>\n",
       "      <td>Medium</td>\n",
       "      <td>Tier 1</td>\n",
       "      <td>Supermarket Type1</td>\n",
       "      <td>3735.1380</td>\n",
       "    </tr>\n",
       "    <tr>\n",
       "      <th>1</th>\n",
       "      <td>DRC01</td>\n",
       "      <td>5.92</td>\n",
       "      <td>Regular</td>\n",
       "      <td>0.019278</td>\n",
       "      <td>Soft Drinks</td>\n",
       "      <td>48.2692</td>\n",
       "      <td>OUT018</td>\n",
       "      <td>2009</td>\n",
       "      <td>Medium</td>\n",
       "      <td>Tier 3</td>\n",
       "      <td>Supermarket Type2</td>\n",
       "      <td>443.4228</td>\n",
       "    </tr>\n",
       "    <tr>\n",
       "      <th>2</th>\n",
       "      <td>FDN15</td>\n",
       "      <td>17.50</td>\n",
       "      <td>Low Fat</td>\n",
       "      <td>0.016760</td>\n",
       "      <td>Meat</td>\n",
       "      <td>141.6180</td>\n",
       "      <td>OUT049</td>\n",
       "      <td>1999</td>\n",
       "      <td>Medium</td>\n",
       "      <td>Tier 1</td>\n",
       "      <td>Supermarket Type1</td>\n",
       "      <td>2097.2700</td>\n",
       "    </tr>\n",
       "    <tr>\n",
       "      <th>3</th>\n",
       "      <td>FDX07</td>\n",
       "      <td>19.20</td>\n",
       "      <td>Regular</td>\n",
       "      <td>0.000000</td>\n",
       "      <td>Fruits and Vegetables</td>\n",
       "      <td>182.0950</td>\n",
       "      <td>OUT010</td>\n",
       "      <td>1998</td>\n",
       "      <td>NaN</td>\n",
       "      <td>Tier 3</td>\n",
       "      <td>Grocery Store</td>\n",
       "      <td>732.3800</td>\n",
       "    </tr>\n",
       "    <tr>\n",
       "      <th>4</th>\n",
       "      <td>NCD19</td>\n",
       "      <td>8.93</td>\n",
       "      <td>Low Fat</td>\n",
       "      <td>0.000000</td>\n",
       "      <td>Household</td>\n",
       "      <td>53.8614</td>\n",
       "      <td>OUT013</td>\n",
       "      <td>1987</td>\n",
       "      <td>High</td>\n",
       "      <td>Tier 3</td>\n",
       "      <td>Supermarket Type1</td>\n",
       "      <td>994.7052</td>\n",
       "    </tr>\n",
       "  </tbody>\n",
       "</table>\n",
       "</div>"
      ],
      "text/plain": [
       "  Item_Identifier  Item_Weight Item_Fat_Content  Item_Visibility  \\\n",
       "0           FDA15         9.30          Low Fat         0.016047   \n",
       "1           DRC01         5.92          Regular         0.019278   \n",
       "2           FDN15        17.50          Low Fat         0.016760   \n",
       "3           FDX07        19.20          Regular         0.000000   \n",
       "4           NCD19         8.93          Low Fat         0.000000   \n",
       "\n",
       "               Item_Type  Item_MRP Outlet_Identifier  \\\n",
       "0                  Dairy  249.8092            OUT049   \n",
       "1            Soft Drinks   48.2692            OUT018   \n",
       "2                   Meat  141.6180            OUT049   \n",
       "3  Fruits and Vegetables  182.0950            OUT010   \n",
       "4              Household   53.8614            OUT013   \n",
       "\n",
       "   Outlet_Establishment_Year Outlet_Size Outlet_Location_Type  \\\n",
       "0                       1999      Medium               Tier 1   \n",
       "1                       2009      Medium               Tier 3   \n",
       "2                       1999      Medium               Tier 1   \n",
       "3                       1998         NaN               Tier 3   \n",
       "4                       1987        High               Tier 3   \n",
       "\n",
       "         Outlet_Type  Item_Outlet_Sales  \n",
       "0  Supermarket Type1          3735.1380  \n",
       "1  Supermarket Type2           443.4228  \n",
       "2  Supermarket Type1          2097.2700  \n",
       "3      Grocery Store           732.3800  \n",
       "4  Supermarket Type1           994.7052  "
      ]
     },
     "execution_count": 263,
     "metadata": {},
     "output_type": "execute_result"
    }
   ],
   "source": [
    "train.head()"
   ]
  },
  {
   "cell_type": "code",
   "execution_count": 264,
   "id": "0dc0c26e",
   "metadata": {},
   "outputs": [],
   "source": [
    "test=pd.read_csv(r\"C:\\Users\\v-rakul\\Desktop\\test_AbJTz2l.csv\")"
   ]
  },
  {
   "cell_type": "code",
   "execution_count": 265,
   "id": "4ebf50a1",
   "metadata": {},
   "outputs": [],
   "source": [
    "train['Item_Fat_Content']=train['Item_Fat_Content'].replace({'low fat':'Low Fat'})"
   ]
  },
  {
   "cell_type": "code",
   "execution_count": 266,
   "id": "13d915a8",
   "metadata": {},
   "outputs": [],
   "source": [
    "test['Item_Fat_Content']=test['Item_Fat_Content'].replace({'low fat':'Low Fat'})"
   ]
  },
  {
   "cell_type": "code",
   "execution_count": 267,
   "id": "ac36b4b4",
   "metadata": {},
   "outputs": [],
   "source": [
    "train['Item_Fat_Content']=train['Item_Fat_Content'].replace({'LF':'Low Fat'})"
   ]
  },
  {
   "cell_type": "code",
   "execution_count": 268,
   "id": "7041b87a",
   "metadata": {},
   "outputs": [],
   "source": [
    "test['Item_Fat_Content']=test['Item_Fat_Content'].replace({'LF':'Low Fat'})"
   ]
  },
  {
   "cell_type": "code",
   "execution_count": 269,
   "id": "97725c96",
   "metadata": {},
   "outputs": [],
   "source": [
    "train['Item_Fat_Content']=train['Item_Fat_Content'].replace({'reg':'Regular'})"
   ]
  },
  {
   "cell_type": "code",
   "execution_count": 270,
   "id": "012843bd",
   "metadata": {},
   "outputs": [],
   "source": [
    "test['Item_Fat_Content']=test['Item_Fat_Content'].replace({'reg':'Regular'})"
   ]
  },
  {
   "cell_type": "code",
   "execution_count": 271,
   "id": "38ed4155",
   "metadata": {},
   "outputs": [
    {
     "data": {
      "text/plain": [
       "array(['Low Fat', 'Regular'], dtype=object)"
      ]
     },
     "execution_count": 271,
     "metadata": {},
     "output_type": "execute_result"
    }
   ],
   "source": [
    "train['Item_Fat_Content'].unique()"
   ]
  },
  {
   "cell_type": "code",
   "execution_count": 272,
   "id": "fd11d53a",
   "metadata": {},
   "outputs": [
    {
     "data": {
      "text/plain": [
       "array(['Low Fat', 'Regular'], dtype=object)"
      ]
     },
     "execution_count": 272,
     "metadata": {},
     "output_type": "execute_result"
    }
   ],
   "source": [
    "test['Item_Fat_Content'].unique()"
   ]
  },
  {
   "cell_type": "code",
   "execution_count": 273,
   "id": "35805c99",
   "metadata": {},
   "outputs": [],
   "source": [
    "train[\"OutletAge\"]=2021-train[\"Outlet_Establishment_Year\"]"
   ]
  },
  {
   "cell_type": "code",
   "execution_count": 274,
   "id": "d98dc7dd",
   "metadata": {},
   "outputs": [],
   "source": [
    "test[\"OutletAge\"]=2021-test[\"Outlet_Establishment_Year\"]"
   ]
  },
  {
   "cell_type": "code",
   "execution_count": 275,
   "id": "38653ec8",
   "metadata": {},
   "outputs": [],
   "source": [
    "combineddf=[train,test]"
   ]
  },
  {
   "cell_type": "code",
   "execution_count": 276,
   "id": "09ce82fc",
   "metadata": {},
   "outputs": [],
   "source": [
    "for data in combineddf:\n",
    "    data['Item_Weight'].fillna(data['Item_Weight'].mean(),inplace = True)\n",
    "    data['Outlet_Size'].fillna('Medium',inplace = True)"
   ]
  },
  {
   "cell_type": "code",
   "execution_count": 277,
   "id": "73e93568",
   "metadata": {},
   "outputs": [],
   "source": [
    "col = ['Item_Fat_Content', 'Item_Type', 'Outlet_Size', 'Outlet_Location_Type', 'Outlet_Type']"
   ]
  },
  {
   "cell_type": "code",
   "execution_count": 278,
   "id": "81f07caa",
   "metadata": {},
   "outputs": [],
   "source": [
    "train_datar = pd.get_dummies(train, columns = col, drop_first = True)\n",
    "test_datar = pd.get_dummies(test, columns = col,drop_first = True)"
   ]
  },
  {
   "cell_type": "code",
   "execution_count": 279,
   "id": "6e411698",
   "metadata": {},
   "outputs": [],
   "source": [
    "feat_cols = ['Item_Weight', 'Item_Visibility', 'Item_MRP','OutletAge' ,\n",
    "       'Item_Fat_Content_Regular', 'Item_Type_Breads', 'Item_Type_Breakfast',\n",
    "       'Item_Type_Canned', 'Item_Type_Dairy', 'Item_Type_Frozen Foods',\n",
    "       'Item_Type_Fruits and Vegetables', 'Item_Type_Hard Drinks',\n",
    "       'Item_Type_Health and Hygiene', 'Item_Type_Household', 'Item_Type_Meat',\n",
    "       'Item_Type_Others', 'Item_Type_Seafood', 'Item_Type_Snack Foods',\n",
    "       'Item_Type_Soft Drinks', 'Item_Type_Starchy Foods',\n",
    "       'Outlet_Size_Medium', 'Outlet_Size_Small',\n",
    "       'Outlet_Location_Type_Tier 2', 'Outlet_Location_Type_Tier 3',\n",
    "       'Outlet_Type_Supermarket Type1', 'Outlet_Type_Supermarket Type2',\n",
    "       'Outlet_Type_Supermarket Type3']"
   ]
  },
  {
   "cell_type": "code",
   "execution_count": 280,
   "id": "e015fd31",
   "metadata": {},
   "outputs": [
    {
     "data": {
      "text/html": [
       "<div>\n",
       "<style scoped>\n",
       "    .dataframe tbody tr th:only-of-type {\n",
       "        vertical-align: middle;\n",
       "    }\n",
       "\n",
       "    .dataframe tbody tr th {\n",
       "        vertical-align: top;\n",
       "    }\n",
       "\n",
       "    .dataframe thead th {\n",
       "        text-align: right;\n",
       "    }\n",
       "</style>\n",
       "<table border=\"1\" class=\"dataframe\">\n",
       "  <thead>\n",
       "    <tr style=\"text-align: right;\">\n",
       "      <th></th>\n",
       "      <th>Item_Identifier</th>\n",
       "      <th>Item_Weight</th>\n",
       "      <th>Item_Visibility</th>\n",
       "      <th>Item_MRP</th>\n",
       "      <th>Outlet_Identifier</th>\n",
       "      <th>Outlet_Establishment_Year</th>\n",
       "      <th>Item_Outlet_Sales</th>\n",
       "      <th>OutletAge</th>\n",
       "      <th>Item_Fat_Content_Regular</th>\n",
       "      <th>Item_Type_Breads</th>\n",
       "      <th>...</th>\n",
       "      <th>Item_Type_Snack Foods</th>\n",
       "      <th>Item_Type_Soft Drinks</th>\n",
       "      <th>Item_Type_Starchy Foods</th>\n",
       "      <th>Outlet_Size_Medium</th>\n",
       "      <th>Outlet_Size_Small</th>\n",
       "      <th>Outlet_Location_Type_Tier 2</th>\n",
       "      <th>Outlet_Location_Type_Tier 3</th>\n",
       "      <th>Outlet_Type_Supermarket Type1</th>\n",
       "      <th>Outlet_Type_Supermarket Type2</th>\n",
       "      <th>Outlet_Type_Supermarket Type3</th>\n",
       "    </tr>\n",
       "  </thead>\n",
       "  <tbody>\n",
       "    <tr>\n",
       "      <th>0</th>\n",
       "      <td>FDA15</td>\n",
       "      <td>9.30</td>\n",
       "      <td>0.016047</td>\n",
       "      <td>249.8092</td>\n",
       "      <td>OUT049</td>\n",
       "      <td>1999</td>\n",
       "      <td>3735.1380</td>\n",
       "      <td>22</td>\n",
       "      <td>0</td>\n",
       "      <td>0</td>\n",
       "      <td>...</td>\n",
       "      <td>0</td>\n",
       "      <td>0</td>\n",
       "      <td>0</td>\n",
       "      <td>1</td>\n",
       "      <td>0</td>\n",
       "      <td>0</td>\n",
       "      <td>0</td>\n",
       "      <td>1</td>\n",
       "      <td>0</td>\n",
       "      <td>0</td>\n",
       "    </tr>\n",
       "    <tr>\n",
       "      <th>1</th>\n",
       "      <td>DRC01</td>\n",
       "      <td>5.92</td>\n",
       "      <td>0.019278</td>\n",
       "      <td>48.2692</td>\n",
       "      <td>OUT018</td>\n",
       "      <td>2009</td>\n",
       "      <td>443.4228</td>\n",
       "      <td>12</td>\n",
       "      <td>1</td>\n",
       "      <td>0</td>\n",
       "      <td>...</td>\n",
       "      <td>0</td>\n",
       "      <td>1</td>\n",
       "      <td>0</td>\n",
       "      <td>1</td>\n",
       "      <td>0</td>\n",
       "      <td>0</td>\n",
       "      <td>1</td>\n",
       "      <td>0</td>\n",
       "      <td>1</td>\n",
       "      <td>0</td>\n",
       "    </tr>\n",
       "    <tr>\n",
       "      <th>2</th>\n",
       "      <td>FDN15</td>\n",
       "      <td>17.50</td>\n",
       "      <td>0.016760</td>\n",
       "      <td>141.6180</td>\n",
       "      <td>OUT049</td>\n",
       "      <td>1999</td>\n",
       "      <td>2097.2700</td>\n",
       "      <td>22</td>\n",
       "      <td>0</td>\n",
       "      <td>0</td>\n",
       "      <td>...</td>\n",
       "      <td>0</td>\n",
       "      <td>0</td>\n",
       "      <td>0</td>\n",
       "      <td>1</td>\n",
       "      <td>0</td>\n",
       "      <td>0</td>\n",
       "      <td>0</td>\n",
       "      <td>1</td>\n",
       "      <td>0</td>\n",
       "      <td>0</td>\n",
       "    </tr>\n",
       "    <tr>\n",
       "      <th>3</th>\n",
       "      <td>FDX07</td>\n",
       "      <td>19.20</td>\n",
       "      <td>0.000000</td>\n",
       "      <td>182.0950</td>\n",
       "      <td>OUT010</td>\n",
       "      <td>1998</td>\n",
       "      <td>732.3800</td>\n",
       "      <td>23</td>\n",
       "      <td>1</td>\n",
       "      <td>0</td>\n",
       "      <td>...</td>\n",
       "      <td>0</td>\n",
       "      <td>0</td>\n",
       "      <td>0</td>\n",
       "      <td>1</td>\n",
       "      <td>0</td>\n",
       "      <td>0</td>\n",
       "      <td>1</td>\n",
       "      <td>0</td>\n",
       "      <td>0</td>\n",
       "      <td>0</td>\n",
       "    </tr>\n",
       "    <tr>\n",
       "      <th>4</th>\n",
       "      <td>NCD19</td>\n",
       "      <td>8.93</td>\n",
       "      <td>0.000000</td>\n",
       "      <td>53.8614</td>\n",
       "      <td>OUT013</td>\n",
       "      <td>1987</td>\n",
       "      <td>994.7052</td>\n",
       "      <td>34</td>\n",
       "      <td>0</td>\n",
       "      <td>0</td>\n",
       "      <td>...</td>\n",
       "      <td>0</td>\n",
       "      <td>0</td>\n",
       "      <td>0</td>\n",
       "      <td>0</td>\n",
       "      <td>0</td>\n",
       "      <td>0</td>\n",
       "      <td>1</td>\n",
       "      <td>1</td>\n",
       "      <td>0</td>\n",
       "      <td>0</td>\n",
       "    </tr>\n",
       "  </tbody>\n",
       "</table>\n",
       "<p>5 rows × 31 columns</p>\n",
       "</div>"
      ],
      "text/plain": [
       "  Item_Identifier  Item_Weight  Item_Visibility  Item_MRP Outlet_Identifier  \\\n",
       "0           FDA15         9.30         0.016047  249.8092            OUT049   \n",
       "1           DRC01         5.92         0.019278   48.2692            OUT018   \n",
       "2           FDN15        17.50         0.016760  141.6180            OUT049   \n",
       "3           FDX07        19.20         0.000000  182.0950            OUT010   \n",
       "4           NCD19         8.93         0.000000   53.8614            OUT013   \n",
       "\n",
       "   Outlet_Establishment_Year  Item_Outlet_Sales  OutletAge  \\\n",
       "0                       1999          3735.1380         22   \n",
       "1                       2009           443.4228         12   \n",
       "2                       1999          2097.2700         22   \n",
       "3                       1998           732.3800         23   \n",
       "4                       1987           994.7052         34   \n",
       "\n",
       "   Item_Fat_Content_Regular  Item_Type_Breads  ...  Item_Type_Snack Foods  \\\n",
       "0                         0                 0  ...                      0   \n",
       "1                         1                 0  ...                      0   \n",
       "2                         0                 0  ...                      0   \n",
       "3                         1                 0  ...                      0   \n",
       "4                         0                 0  ...                      0   \n",
       "\n",
       "   Item_Type_Soft Drinks  Item_Type_Starchy Foods  Outlet_Size_Medium  \\\n",
       "0                      0                        0                   1   \n",
       "1                      1                        0                   1   \n",
       "2                      0                        0                   1   \n",
       "3                      0                        0                   1   \n",
       "4                      0                        0                   0   \n",
       "\n",
       "   Outlet_Size_Small  Outlet_Location_Type_Tier 2  \\\n",
       "0                  0                            0   \n",
       "1                  0                            0   \n",
       "2                  0                            0   \n",
       "3                  0                            0   \n",
       "4                  0                            0   \n",
       "\n",
       "   Outlet_Location_Type_Tier 3  Outlet_Type_Supermarket Type1  \\\n",
       "0                            0                              1   \n",
       "1                            1                              0   \n",
       "2                            0                              1   \n",
       "3                            1                              0   \n",
       "4                            1                              1   \n",
       "\n",
       "   Outlet_Type_Supermarket Type2  Outlet_Type_Supermarket Type3  \n",
       "0                              0                              0  \n",
       "1                              1                              0  \n",
       "2                              0                              0  \n",
       "3                              0                              0  \n",
       "4                              0                              0  \n",
       "\n",
       "[5 rows x 31 columns]"
      ]
     },
     "execution_count": 280,
     "metadata": {},
     "output_type": "execute_result"
    }
   ],
   "source": [
    "train_datar.head()"
   ]
  },
  {
   "cell_type": "code",
   "execution_count": 281,
   "id": "0c4a8ed1",
   "metadata": {},
   "outputs": [
    {
     "data": {
      "text/plain": [
       "Item_Identifier              0\n",
       "Item_Weight                  0\n",
       "Item_Fat_Content             0\n",
       "Item_Visibility              0\n",
       "Item_Type                    0\n",
       "Item_MRP                     0\n",
       "Outlet_Identifier            0\n",
       "Outlet_Establishment_Year    0\n",
       "Outlet_Size                  0\n",
       "Outlet_Location_Type         0\n",
       "Outlet_Type                  0\n",
       "OutletAge                    0\n",
       "dtype: int64"
      ]
     },
     "execution_count": 281,
     "metadata": {},
     "output_type": "execute_result"
    }
   ],
   "source": [
    "test.isnull().sum()"
   ]
  },
  {
   "cell_type": "code",
   "execution_count": 282,
   "id": "ad7ca1dd",
   "metadata": {},
   "outputs": [
    {
     "data": {
      "text/plain": [
       "Item_Identifier              0\n",
       "Item_Weight                  0\n",
       "Item_Fat_Content             0\n",
       "Item_Visibility              0\n",
       "Item_Type                    0\n",
       "Item_MRP                     0\n",
       "Outlet_Identifier            0\n",
       "Outlet_Establishment_Year    0\n",
       "Outlet_Size                  0\n",
       "Outlet_Location_Type         0\n",
       "Outlet_Type                  0\n",
       "Item_Outlet_Sales            0\n",
       "OutletAge                    0\n",
       "dtype: int64"
      ]
     },
     "execution_count": 282,
     "metadata": {},
     "output_type": "execute_result"
    }
   ],
   "source": [
    "train.isnull().sum()"
   ]
  },
  {
   "cell_type": "code",
   "execution_count": 283,
   "id": "d64a3150",
   "metadata": {},
   "outputs": [],
   "source": [
    "x = train_datar[feat_cols]\n",
    "y = train_datar['Item_Outlet_Sales']"
   ]
  },
  {
   "cell_type": "code",
   "execution_count": 284,
   "id": "e8b0b313",
   "metadata": {},
   "outputs": [],
   "source": [
    "from sklearn.model_selection import train_test_split\n",
    "x_train, x_test, y_train, y_test = train_test_split(x, y, test_size = 0.2,random_state = 0)"
   ]
  },
  {
   "cell_type": "code",
   "execution_count": 285,
   "id": "519fb6da",
   "metadata": {},
   "outputs": [
    {
     "data": {
      "text/plain": [
       "0    3735.1380\n",
       "1     443.4228\n",
       "2    2097.2700\n",
       "3     732.3800\n",
       "4     994.7052\n",
       "Name: Item_Outlet_Sales, dtype: float64"
      ]
     },
     "execution_count": 285,
     "metadata": {},
     "output_type": "execute_result"
    }
   ],
   "source": [
    "y.head()"
   ]
  },
  {
   "cell_type": "markdown",
   "id": "ddfe25f3",
   "metadata": {},
   "source": [
    "##### MLR"
   ]
  },
  {
   "cell_type": "code",
   "execution_count": 286,
   "id": "f5487473",
   "metadata": {},
   "outputs": [],
   "source": [
    "from sklearn.linear_model import LinearRegression"
   ]
  },
  {
   "cell_type": "code",
   "execution_count": 287,
   "id": "2801b536",
   "metadata": {},
   "outputs": [],
   "source": [
    "mlr_model=LinearRegression()"
   ]
  },
  {
   "cell_type": "code",
   "execution_count": 288,
   "id": "fab1e09c",
   "metadata": {},
   "outputs": [
    {
     "data": {
      "text/plain": [
       "LinearRegression()"
      ]
     },
     "execution_count": 288,
     "metadata": {},
     "output_type": "execute_result"
    }
   ],
   "source": [
    "mlr_model.fit(x_train,y_train)"
   ]
  },
  {
   "cell_type": "code",
   "execution_count": 289,
   "id": "766b5e21",
   "metadata": {},
   "outputs": [],
   "source": [
    "y_pred=mlr_model.predict(x_test)"
   ]
  },
  {
   "cell_type": "code",
   "execution_count": 290,
   "id": "f1fc1f94",
   "metadata": {},
   "outputs": [
    {
     "data": {
      "text/plain": [
       "array([ 2458.96375526,  2537.68459598,  2245.80639585, ...,\n",
       "        4263.6143873 , -1058.62657846,  5418.56893125])"
      ]
     },
     "execution_count": 290,
     "metadata": {},
     "output_type": "execute_result"
    }
   ],
   "source": [
    "y_pred"
   ]
  },
  {
   "cell_type": "code",
   "execution_count": 220,
   "id": "eb31e4a9",
   "metadata": {},
   "outputs": [],
   "source": [
    "from sklearn.metrics import mean_squared_error"
   ]
  },
  {
   "cell_type": "code",
   "execution_count": 221,
   "id": "a54c3c9b",
   "metadata": {},
   "outputs": [],
   "source": [
    "mse=mean_squared_error(y_test,y_pred)"
   ]
  },
  {
   "cell_type": "code",
   "execution_count": 222,
   "id": "c210ca1d",
   "metadata": {},
   "outputs": [
    {
     "data": {
      "text/plain": [
       "1281773.980313162"
      ]
     },
     "execution_count": 222,
     "metadata": {},
     "output_type": "execute_result"
    }
   ],
   "source": [
    "mse"
   ]
  },
  {
   "cell_type": "code",
   "execution_count": 223,
   "id": "31442fe9",
   "metadata": {},
   "outputs": [],
   "source": [
    "rmse=np.sqrt(mse)"
   ]
  },
  {
   "cell_type": "code",
   "execution_count": 224,
   "id": "0cac9cc2",
   "metadata": {},
   "outputs": [
    {
     "data": {
      "text/plain": [
       "1132.154574390424"
      ]
     },
     "execution_count": 224,
     "metadata": {},
     "output_type": "execute_result"
    }
   ],
   "source": [
    "rmse"
   ]
  },
  {
   "cell_type": "code",
   "execution_count": 57,
   "id": "b952704b",
   "metadata": {},
   "outputs": [],
   "source": [
    "from sklearn.metrics import r2_score"
   ]
  },
  {
   "cell_type": "code",
   "execution_count": 58,
   "id": "f771f2f7",
   "metadata": {},
   "outputs": [
    {
     "data": {
      "text/plain": [
       "0.562065073173319"
      ]
     },
     "execution_count": 58,
     "metadata": {},
     "output_type": "execute_result"
    }
   ],
   "source": [
    "r2_score(y_test,y_pred)"
   ]
  },
  {
   "cell_type": "code",
   "execution_count": 59,
   "id": "5f87af39",
   "metadata": {},
   "outputs": [],
   "source": [
    "from sklearn.metrics import accuracy_score"
   ]
  },
  {
   "cell_type": "code",
   "execution_count": 60,
   "id": "c03ce084",
   "metadata": {},
   "outputs": [
    {
     "data": {
      "text/plain": [
       "56.35"
      ]
     },
     "execution_count": 60,
     "metadata": {},
     "output_type": "execute_result"
    }
   ],
   "source": [
    "lr_accuracy = round(mlr_model.score(x_train,y_train) * 100,2)\n",
    "lr_accuracy"
   ]
  },
  {
   "cell_type": "markdown",
   "id": "33f0f904",
   "metadata": {},
   "source": [
    "#### SVM"
   ]
  },
  {
   "cell_type": "code",
   "execution_count": 225,
   "id": "d5546fe0",
   "metadata": {},
   "outputs": [],
   "source": [
    "from sklearn.preprocessing import MinMaxScaler"
   ]
  },
  {
   "cell_type": "code",
   "execution_count": 226,
   "id": "a5d72751",
   "metadata": {},
   "outputs": [],
   "source": [
    "#Init\n",
    "sc=MinMaxScaler()"
   ]
  },
  {
   "cell_type": "code",
   "execution_count": 227,
   "id": "b11195a2",
   "metadata": {},
   "outputs": [],
   "source": [
    "x_train=sc.fit_transform(x_train)"
   ]
  },
  {
   "cell_type": "code",
   "execution_count": 228,
   "id": "ad15271a",
   "metadata": {},
   "outputs": [
    {
     "data": {
      "text/plain": [
       "array([[0.4943522 , 0.02656085, 0.39156208, ..., 0.        , 0.        ,\n",
       "        1.        ],\n",
       "       [0.84221494, 0.0445281 , 0.08804134, ..., 1.        , 0.        ,\n",
       "        0.        ],\n",
       "       [0.67252158, 0.37038999, 0.1245    , ..., 1.        , 0.        ,\n",
       "        0.        ],\n",
       "       ...,\n",
       "       [0.53259899, 0.        , 0.19994194, ..., 1.        , 0.        ,\n",
       "        0.        ],\n",
       "       [0.84221494, 0.31940718, 0.38250345, ..., 1.        , 0.        ,\n",
       "        0.        ],\n",
       "       [0.56236975, 0.12593333, 0.63995935, ..., 1.        , 0.        ,\n",
       "        0.        ]])"
      ]
     },
     "execution_count": 228,
     "metadata": {},
     "output_type": "execute_result"
    }
   ],
   "source": [
    "x_train"
   ]
  },
  {
   "cell_type": "code",
   "execution_count": 229,
   "id": "0347d56f",
   "metadata": {},
   "outputs": [],
   "source": [
    "x_test=sc.transform(x_test)"
   ]
  },
  {
   "cell_type": "code",
   "execution_count": 230,
   "id": "638991e5",
   "metadata": {},
   "outputs": [
    {
     "data": {
      "text/plain": [
       "array([[0.59214052, 0.27394257, 0.54444512, ..., 1.        , 0.        ,\n",
       "        0.        ],\n",
       "       [0.4943522 , 0.02903478, 0.14117668, ..., 0.        , 0.        ,\n",
       "        1.        ],\n",
       "       [0.41351593, 0.05402713, 0.41754358, ..., 1.        , 0.        ,\n",
       "        0.        ],\n",
       "       ...,\n",
       "       [0.49091992, 0.21182345, 0.98360261, ..., 1.        , 0.        ,\n",
       "        0.        ],\n",
       "       [0.4943522 , 0.49592291, 0.09892088, ..., 0.        , 0.        ,\n",
       "        0.        ],\n",
       "       [0.4943522 , 0.06657768, 0.91562252, ..., 0.        , 0.        ,\n",
       "        1.        ]])"
      ]
     },
     "execution_count": 230,
     "metadata": {},
     "output_type": "execute_result"
    }
   ],
   "source": [
    "x_test"
   ]
  },
  {
   "cell_type": "code",
   "execution_count": 231,
   "id": "fb53fe0c",
   "metadata": {},
   "outputs": [],
   "source": [
    "from sklearn.svm import SVR"
   ]
  },
  {
   "cell_type": "code",
   "execution_count": 232,
   "id": "55175205",
   "metadata": {},
   "outputs": [],
   "source": [
    "#kernel=linear for linear svm\n",
    "svm_model=SVR(C= 1001, kernel= 'poly')"
   ]
  },
  {
   "cell_type": "code",
   "execution_count": 233,
   "id": "4b6efcaa",
   "metadata": {},
   "outputs": [
    {
     "data": {
      "text/plain": [
       "SVR(C=1001, kernel='poly')"
      ]
     },
     "execution_count": 233,
     "metadata": {},
     "output_type": "execute_result"
    }
   ],
   "source": [
    "svm_model.fit(x_train,y_train)"
   ]
  },
  {
   "cell_type": "code",
   "execution_count": 234,
   "id": "d71c4a33",
   "metadata": {},
   "outputs": [],
   "source": [
    "y_pred=svm_model.predict(x_test)"
   ]
  },
  {
   "cell_type": "code",
   "execution_count": 235,
   "id": "b29646f5",
   "metadata": {},
   "outputs": [],
   "source": [
    "from sklearn.metrics import mean_squared_error"
   ]
  },
  {
   "cell_type": "code",
   "execution_count": 236,
   "id": "3973c27a",
   "metadata": {},
   "outputs": [],
   "source": [
    "mse=mean_squared_error(y_test,y_pred)"
   ]
  },
  {
   "cell_type": "code",
   "execution_count": 237,
   "id": "4c3d4969",
   "metadata": {},
   "outputs": [
    {
     "data": {
      "text/plain": [
       "1196448.0731505"
      ]
     },
     "execution_count": 237,
     "metadata": {},
     "output_type": "execute_result"
    }
   ],
   "source": [
    "mse"
   ]
  },
  {
   "cell_type": "code",
   "execution_count": 238,
   "id": "85927d91",
   "metadata": {},
   "outputs": [],
   "source": [
    "rmse=np.sqrt(mse)"
   ]
  },
  {
   "cell_type": "code",
   "execution_count": 239,
   "id": "b558ebb5",
   "metadata": {},
   "outputs": [
    {
     "data": {
      "text/plain": [
       "1093.8226881677394"
      ]
     },
     "execution_count": 239,
     "metadata": {},
     "output_type": "execute_result"
    }
   ],
   "source": [
    "rmse"
   ]
  },
  {
   "cell_type": "code",
   "execution_count": 141,
   "id": "434ec8ee",
   "metadata": {},
   "outputs": [],
   "source": [
    "from sklearn.metrics import r2_score"
   ]
  },
  {
   "cell_type": "code",
   "execution_count": 142,
   "id": "7aab8cb3",
   "metadata": {},
   "outputs": [
    {
     "data": {
      "text/plain": [
       "0.5912177908003151"
      ]
     },
     "execution_count": 142,
     "metadata": {},
     "output_type": "execute_result"
    }
   ],
   "source": [
    "r2=r2_score(y_test,y_pred)\n",
    "r2"
   ]
  },
  {
   "cell_type": "code",
   "execution_count": 118,
   "id": "40db8fde",
   "metadata": {},
   "outputs": [],
   "source": [
    "svr_model1=SVR()"
   ]
  },
  {
   "cell_type": "code",
   "execution_count": 119,
   "id": "a2c900ab",
   "metadata": {},
   "outputs": [],
   "source": [
    "from sklearn.model_selection import GridSearchCV"
   ]
  },
  {
   "cell_type": "code",
   "execution_count": 133,
   "id": "a574bcde",
   "metadata": {},
   "outputs": [],
   "source": [
    "param_grid={\n",
    "            'kernel': ['rbf','linear', 'poly', 'sigmoid'],\n",
    "            'C': [1, 5, 170, 1001]\n",
    "            \n",
    "        }"
   ]
  },
  {
   "cell_type": "code",
   "execution_count": 134,
   "id": "203033e5",
   "metadata": {},
   "outputs": [],
   "source": [
    "gsv=GridSearchCV(svr_model1,param_grid,scoring='r2',n_jobs=8,verbose=10,cv=5)"
   ]
  },
  {
   "cell_type": "code",
   "execution_count": 135,
   "id": "0e4924eb",
   "metadata": {},
   "outputs": [
    {
     "name": "stdout",
     "output_type": "stream",
     "text": [
      "Fitting 5 folds for each of 16 candidates, totalling 80 fits\n"
     ]
    },
    {
     "data": {
      "text/plain": [
       "GridSearchCV(cv=5, estimator=SVR(), n_jobs=8,\n",
       "             param_grid={'C': [1, 5, 170, 1001],\n",
       "                         'kernel': ['rbf', 'linear', 'poly', 'sigmoid']},\n",
       "             scoring='r2', verbose=10)"
      ]
     },
     "execution_count": 135,
     "metadata": {},
     "output_type": "execute_result"
    }
   ],
   "source": [
    "gsv.fit(x_train,y_train)"
   ]
  },
  {
   "cell_type": "code",
   "execution_count": 136,
   "id": "d4545515",
   "metadata": {},
   "outputs": [
    {
     "data": {
      "text/plain": [
       "{'C': 1001, 'kernel': 'poly'}"
      ]
     },
     "execution_count": 136,
     "metadata": {},
     "output_type": "execute_result"
    }
   ],
   "source": [
    "gsv.best_params_"
   ]
  },
  {
   "cell_type": "code",
   "execution_count": 143,
   "id": "d67616fe",
   "metadata": {},
   "outputs": [],
   "source": [
    "from sklearn.metrics import accuracy_score"
   ]
  },
  {
   "cell_type": "code",
   "execution_count": 145,
   "id": "adc1ed3f",
   "metadata": {},
   "outputs": [
    {
     "data": {
      "text/plain": [
       "61.6"
      ]
     },
     "execution_count": 145,
     "metadata": {},
     "output_type": "execute_result"
    }
   ],
   "source": [
    "lr_accuracy = round(svm_model.score(x_train,y_train) * 100,2)\n",
    "lr_accuracy"
   ]
  },
  {
   "cell_type": "markdown",
   "id": "89c99a1c",
   "metadata": {},
   "source": [
    "##### DT"
   ]
  },
  {
   "cell_type": "code",
   "execution_count": 240,
   "id": "5ac39d0f",
   "metadata": {},
   "outputs": [],
   "source": [
    "from sklearn.tree import DecisionTreeRegressor"
   ]
  },
  {
   "cell_type": "code",
   "execution_count": 241,
   "id": "a6ee3447",
   "metadata": {},
   "outputs": [],
   "source": [
    "dt_model=DecisionTreeRegressor(criterion= 'mse',\n",
    " max_depth= 6,\n",
    " max_leaf_nodes= 100,\n",
    " min_samples_leaf= 40,\n",
    " min_samples_split= 10)"
   ]
  },
  {
   "cell_type": "code",
   "execution_count": 242,
   "id": "4705d68c",
   "metadata": {},
   "outputs": [
    {
     "data": {
      "text/plain": [
       "DecisionTreeRegressor(max_depth=6, max_leaf_nodes=100, min_samples_leaf=40,\n",
       "                      min_samples_split=10)"
      ]
     },
     "execution_count": 242,
     "metadata": {},
     "output_type": "execute_result"
    }
   ],
   "source": [
    "dt_model.fit(x_train,y_train)"
   ]
  },
  {
   "cell_type": "code",
   "execution_count": 243,
   "id": "9f5242d5",
   "metadata": {},
   "outputs": [],
   "source": [
    "y_pred=dt_model.predict(x_test)"
   ]
  },
  {
   "cell_type": "code",
   "execution_count": 244,
   "id": "4d9c2cc2",
   "metadata": {},
   "outputs": [
    {
     "data": {
      "text/plain": [
       "array([2673.41988072, 1714.75299403, 2153.76615636, ..., 4496.1474    ,\n",
       "        164.22213077, 6328.16083056])"
      ]
     },
     "execution_count": 244,
     "metadata": {},
     "output_type": "execute_result"
    }
   ],
   "source": [
    "y_pred"
   ]
  },
  {
   "cell_type": "code",
   "execution_count": 245,
   "id": "6cae1289",
   "metadata": {},
   "outputs": [],
   "source": [
    "from sklearn.metrics import mean_squared_error"
   ]
  },
  {
   "cell_type": "code",
   "execution_count": 246,
   "id": "59591533",
   "metadata": {},
   "outputs": [],
   "source": [
    "mse=mean_squared_error(y_test,y_pred)"
   ]
  },
  {
   "cell_type": "code",
   "execution_count": 247,
   "id": "22335042",
   "metadata": {},
   "outputs": [
    {
     "data": {
      "text/plain": [
       "1211858.9569370598"
      ]
     },
     "execution_count": 247,
     "metadata": {},
     "output_type": "execute_result"
    }
   ],
   "source": [
    "mse"
   ]
  },
  {
   "cell_type": "code",
   "execution_count": 248,
   "id": "9fcc83cb",
   "metadata": {},
   "outputs": [
    {
     "data": {
      "text/plain": [
       "1100.8446561332166"
      ]
     },
     "execution_count": 248,
     "metadata": {},
     "output_type": "execute_result"
    }
   ],
   "source": [
    "rmse=np.sqrt(mse)\n",
    "rmse"
   ]
  },
  {
   "cell_type": "code",
   "execution_count": 169,
   "id": "9c132a6e",
   "metadata": {},
   "outputs": [],
   "source": [
    "from sklearn.metrics import r2_score"
   ]
  },
  {
   "cell_type": "code",
   "execution_count": 170,
   "id": "c8f2bdb0",
   "metadata": {},
   "outputs": [
    {
     "data": {
      "text/plain": [
       "0.585952459808222"
      ]
     },
     "execution_count": 170,
     "metadata": {},
     "output_type": "execute_result"
    }
   ],
   "source": [
    "r2=r2_score(y_test,y_pred)\n",
    "r2"
   ]
  },
  {
   "cell_type": "code",
   "execution_count": 159,
   "id": "2c747998",
   "metadata": {},
   "outputs": [],
   "source": [
    "from sklearn.model_selection import GridSearchCV"
   ]
  },
  {
   "cell_type": "code",
   "execution_count": 160,
   "id": "5c2de4ce",
   "metadata": {},
   "outputs": [],
   "source": [
    "dt_model2=DecisionTreeRegressor()"
   ]
  },
  {
   "cell_type": "code",
   "execution_count": 161,
   "id": "26a0a706",
   "metadata": {},
   "outputs": [],
   "source": [
    "param_grid = {\"criterion\": [\"mse\", \"mae\"],\n",
    "              \"min_samples_split\": [10, 20, 40],\n",
    "              \"max_depth\": [2, 6, 8],\n",
    "              \"min_samples_leaf\": [20, 40, 100],\n",
    "              \"max_leaf_nodes\": [5, 20, 100],\n",
    "              }"
   ]
  },
  {
   "cell_type": "code",
   "execution_count": 162,
   "id": "1cc4ed8c",
   "metadata": {},
   "outputs": [],
   "source": [
    "gsv=GridSearchCV(dt_model2,param_grid,scoring='r2',n_jobs=8,verbose=10,cv=5)"
   ]
  },
  {
   "cell_type": "code",
   "execution_count": 163,
   "id": "a1f01498",
   "metadata": {},
   "outputs": [
    {
     "name": "stdout",
     "output_type": "stream",
     "text": [
      "Fitting 5 folds for each of 162 candidates, totalling 810 fits\n"
     ]
    },
    {
     "data": {
      "text/plain": [
       "GridSearchCV(cv=5, estimator=DecisionTreeRegressor(), n_jobs=8,\n",
       "             param_grid={'criterion': ['mse', 'mae'], 'max_depth': [2, 6, 8],\n",
       "                         'max_leaf_nodes': [5, 20, 100],\n",
       "                         'min_samples_leaf': [20, 40, 100],\n",
       "                         'min_samples_split': [10, 20, 40]},\n",
       "             scoring='r2', verbose=10)"
      ]
     },
     "execution_count": 163,
     "metadata": {},
     "output_type": "execute_result"
    }
   ],
   "source": [
    "gsv.fit(x_train,y_train)"
   ]
  },
  {
   "cell_type": "code",
   "execution_count": 164,
   "id": "8b8ee24b",
   "metadata": {},
   "outputs": [
    {
     "data": {
      "text/plain": [
       "{'criterion': 'mse',\n",
       " 'max_depth': 6,\n",
       " 'max_leaf_nodes': 100,\n",
       " 'min_samples_leaf': 40,\n",
       " 'min_samples_split': 10}"
      ]
     },
     "execution_count": 164,
     "metadata": {},
     "output_type": "execute_result"
    }
   ],
   "source": [
    "gsv.best_params_"
   ]
  },
  {
   "cell_type": "markdown",
   "id": "06bf3a28",
   "metadata": {},
   "source": [
    "#### RandomForest "
   ]
  },
  {
   "cell_type": "code",
   "execution_count": 171,
   "id": "3001a089",
   "metadata": {},
   "outputs": [],
   "source": [
    "from sklearn.ensemble import RandomForestRegressor"
   ]
  },
  {
   "cell_type": "code",
   "execution_count": 184,
   "id": "02a1adbd",
   "metadata": {},
   "outputs": [],
   "source": [
    "rf_model=RandomForestRegressor( criterion= 'mse',\n",
    " max_depth= 6,\n",
    " max_leaf_nodes= 100,\n",
    " min_samples_leaf= 40,\n",
    " min_samples_split= 20,random_state=42)"
   ]
  },
  {
   "cell_type": "code",
   "execution_count": 185,
   "id": "e1b62591",
   "metadata": {},
   "outputs": [
    {
     "data": {
      "text/plain": [
       "RandomForestRegressor(max_depth=6, max_leaf_nodes=100, min_samples_leaf=40,\n",
       "                      min_samples_split=20, random_state=42)"
      ]
     },
     "execution_count": 185,
     "metadata": {},
     "output_type": "execute_result"
    }
   ],
   "source": [
    "rf_model.fit(x_train,y_train)"
   ]
  },
  {
   "cell_type": "code",
   "execution_count": 249,
   "id": "bbbf11e5",
   "metadata": {},
   "outputs": [],
   "source": [
    "y_pred=rf_model.predict(x_test)"
   ]
  },
  {
   "cell_type": "code",
   "execution_count": 250,
   "id": "8678e441",
   "metadata": {},
   "outputs": [],
   "source": [
    "from sklearn.metrics import mean_squared_error"
   ]
  },
  {
   "cell_type": "code",
   "execution_count": 251,
   "id": "6ef13627",
   "metadata": {},
   "outputs": [
    {
     "data": {
      "text/plain": [
       "1190112.6246173887"
      ]
     },
     "execution_count": 251,
     "metadata": {},
     "output_type": "execute_result"
    }
   ],
   "source": [
    "mse=mean_squared_error(y_test,y_pred)\n",
    "mse"
   ]
  },
  {
   "cell_type": "code",
   "execution_count": 252,
   "id": "a0ba8a44",
   "metadata": {},
   "outputs": [
    {
     "data": {
      "text/plain": [
       "1090.9228316509782"
      ]
     },
     "execution_count": 252,
     "metadata": {},
     "output_type": "execute_result"
    }
   ],
   "source": [
    "rmse=np.sqrt(mse)\n",
    "rmse"
   ]
  },
  {
   "cell_type": "code",
   "execution_count": 187,
   "id": "edb6f4dc",
   "metadata": {},
   "outputs": [],
   "source": [
    "from sklearn.metrics import r2_score"
   ]
  },
  {
   "cell_type": "code",
   "execution_count": 188,
   "id": "4f25e2a8",
   "metadata": {},
   "outputs": [
    {
     "data": {
      "text/plain": [
       "0.5933823800589335"
      ]
     },
     "execution_count": 188,
     "metadata": {},
     "output_type": "execute_result"
    }
   ],
   "source": [
    "r2=r2_score(y_test,y_pred)\n",
    "r2"
   ]
  },
  {
   "cell_type": "code",
   "execution_count": 178,
   "id": "ac101a47",
   "metadata": {},
   "outputs": [],
   "source": [
    "from sklearn.model_selection import GridSearchCV"
   ]
  },
  {
   "cell_type": "code",
   "execution_count": 179,
   "id": "f0c76a41",
   "metadata": {},
   "outputs": [],
   "source": [
    "rf_model1=DecisionTreeRegressor()"
   ]
  },
  {
   "cell_type": "code",
   "execution_count": 180,
   "id": "653b74fd",
   "metadata": {},
   "outputs": [],
   "source": [
    "param_grid = {\"criterion\": [\"mse\", \"mae\"],\n",
    "              \"min_samples_split\": [10, 20, 40],\n",
    "              \"max_depth\": [2, 6, 8],\n",
    "              \"min_samples_leaf\": [20, 40, 100],\n",
    "              \"max_leaf_nodes\": [5, 20, 100],\n",
    "              }"
   ]
  },
  {
   "cell_type": "code",
   "execution_count": 181,
   "id": "70fc3dca",
   "metadata": {},
   "outputs": [],
   "source": [
    "gsv=GridSearchCV(rf_model1,param_grid,scoring='r2',n_jobs=8,verbose=10,cv=5)"
   ]
  },
  {
   "cell_type": "code",
   "execution_count": 182,
   "id": "7635ddb7",
   "metadata": {},
   "outputs": [
    {
     "name": "stdout",
     "output_type": "stream",
     "text": [
      "Fitting 5 folds for each of 162 candidates, totalling 810 fits\n"
     ]
    },
    {
     "data": {
      "text/plain": [
       "GridSearchCV(cv=5, estimator=DecisionTreeRegressor(), n_jobs=8,\n",
       "             param_grid={'criterion': ['mse', 'mae'], 'max_depth': [2, 6, 8],\n",
       "                         'max_leaf_nodes': [5, 20, 100],\n",
       "                         'min_samples_leaf': [20, 40, 100],\n",
       "                         'min_samples_split': [10, 20, 40]},\n",
       "             scoring='r2', verbose=10)"
      ]
     },
     "execution_count": 182,
     "metadata": {},
     "output_type": "execute_result"
    }
   ],
   "source": [
    "gsv.fit(x_train,y_train)"
   ]
  },
  {
   "cell_type": "code",
   "execution_count": 183,
   "id": "6f8fa2a5",
   "metadata": {},
   "outputs": [
    {
     "data": {
      "text/plain": [
       "{'criterion': 'mse',\n",
       " 'max_depth': 6,\n",
       " 'max_leaf_nodes': 100,\n",
       " 'min_samples_leaf': 40,\n",
       " 'min_samples_split': 20}"
      ]
     },
     "execution_count": 183,
     "metadata": {},
     "output_type": "execute_result"
    }
   ],
   "source": [
    "gsv.best_params_"
   ]
  },
  {
   "cell_type": "markdown",
   "id": "fd2ac551",
   "metadata": {},
   "source": [
    "#### XGBoost"
   ]
  },
  {
   "cell_type": "code",
   "execution_count": 2,
   "id": "9a08d122",
   "metadata": {},
   "outputs": [],
   "source": [
    "from xgboost import XGBRegressor"
   ]
  },
  {
   "cell_type": "code",
   "execution_count": 3,
   "id": "e4a36054",
   "metadata": {},
   "outputs": [],
   "source": [
    "XGB = XGBRegressor(colsample_bytree= 0.7,\n",
    " learning_rate= 0.03,\n",
    " max_depth= 5,\n",
    " min_child_weight= 4,\n",
    " n_estimators=500,\n",
    " nthread= 4,\n",
    " objective= 'reg:linear',\n",
    " silent= 1,\n",
    " subsample= 0.7)"
   ]
  },
  {
   "cell_type": "code",
   "execution_count": 4,
   "id": "af075041",
   "metadata": {},
   "outputs": [
    {
     "ename": "NameError",
     "evalue": "name 'x_train' is not defined",
     "output_type": "error",
     "traceback": [
      "\u001b[1;31m---------------------------------------------------------------------------\u001b[0m",
      "\u001b[1;31mNameError\u001b[0m                                 Traceback (most recent call last)",
      "\u001b[1;32m<ipython-input-4-0f6bc163d6b9>\u001b[0m in \u001b[0;36m<module>\u001b[1;34m\u001b[0m\n\u001b[1;32m----> 1\u001b[1;33m \u001b[0mXGB\u001b[0m\u001b[1;33m.\u001b[0m\u001b[0mfit\u001b[0m\u001b[1;33m(\u001b[0m\u001b[0mx_train\u001b[0m\u001b[1;33m,\u001b[0m \u001b[0my_train\u001b[0m\u001b[1;33m)\u001b[0m\u001b[1;33m\u001b[0m\u001b[1;33m\u001b[0m\u001b[0m\n\u001b[0m",
      "\u001b[1;31mNameError\u001b[0m: name 'x_train' is not defined"
     ]
    }
   ],
   "source": [
    "XGB.fit(x_train, y_train)"
   ]
  },
  {
   "cell_type": "code",
   "execution_count": 256,
   "id": "8216885a",
   "metadata": {},
   "outputs": [],
   "source": [
    "y_pred = XGB.predict(x_test)"
   ]
  },
  {
   "cell_type": "code",
   "execution_count": 257,
   "id": "a8df9275",
   "metadata": {},
   "outputs": [],
   "source": [
    "from sklearn.metrics import mean_squared_error"
   ]
  },
  {
   "cell_type": "code",
   "execution_count": 258,
   "id": "84c3add7",
   "metadata": {},
   "outputs": [
    {
     "data": {
      "text/plain": [
       "1254605.4286318964"
      ]
     },
     "execution_count": 258,
     "metadata": {},
     "output_type": "execute_result"
    }
   ],
   "source": [
    "mse=mean_squared_error(y_test,y_pred)\n",
    "mse"
   ]
  },
  {
   "cell_type": "code",
   "execution_count": 259,
   "id": "b387da48",
   "metadata": {},
   "outputs": [
    {
     "data": {
      "text/plain": [
       "1120.0917054562526"
      ]
     },
     "execution_count": 259,
     "metadata": {},
     "output_type": "execute_result"
    }
   ],
   "source": [
    "rmse=np.sqrt(mse)\n",
    "rmse"
   ]
  },
  {
   "cell_type": "code",
   "execution_count": 203,
   "id": "02b897f0",
   "metadata": {},
   "outputs": [],
   "source": [
    "from sklearn.metrics import r2_score"
   ]
  },
  {
   "cell_type": "code",
   "execution_count": 204,
   "id": "44702e1f",
   "metadata": {},
   "outputs": [
    {
     "data": {
      "text/plain": [
       "0.5713475659335597"
      ]
     },
     "execution_count": 204,
     "metadata": {},
     "output_type": "execute_result"
    }
   ],
   "source": [
    "r2=r2_score(y_test,y_pred)\n",
    "r2"
   ]
  },
  {
   "cell_type": "code",
   "execution_count": 195,
   "id": "0e715278",
   "metadata": {},
   "outputs": [],
   "source": [
    "from sklearn.model_selection import GridSearchCV"
   ]
  },
  {
   "cell_type": "code",
   "execution_count": 196,
   "id": "b1da0db0",
   "metadata": {},
   "outputs": [],
   "source": [
    "param_grid = {'nthread':[4], #when use hyperthread, xgboost may become slower\n",
    "              'objective':['reg:linear'],\n",
    "              'learning_rate': [.03, 0.05, .07], #so called `eta` value\n",
    "              'max_depth': [5, 6, 7],\n",
    "              'min_child_weight': [4],\n",
    "              'silent': [1],\n",
    "              'subsample': [0.7],\n",
    "              'colsample_bytree': [0.7],\n",
    "              'n_estimators': [500]}"
   ]
  },
  {
   "cell_type": "code",
   "execution_count": 197,
   "id": "6e6f750e",
   "metadata": {},
   "outputs": [],
   "source": [
    "gsv=GridSearchCV(XGB,param_grid,scoring='r2',n_jobs=8,verbose=10,cv=5)"
   ]
  },
  {
   "cell_type": "code",
   "execution_count": 198,
   "id": "377a1d61",
   "metadata": {},
   "outputs": [
    {
     "name": "stdout",
     "output_type": "stream",
     "text": [
      "Fitting 5 folds for each of 9 candidates, totalling 45 fits\n",
      "[03:37:07] WARNING: C:/Users/Administrator/workspace/xgboost-win64_release_1.4.0/src/objective/regression_obj.cu:171: reg:linear is now deprecated in favor of reg:squarederror.\n",
      "[03:37:07] WARNING: C:/Users/Administrator/workspace/xgboost-win64_release_1.4.0/src/learner.cc:573: \n",
      "Parameters: { \"silent\" } might not be used.\n",
      "\n",
      "  This may not be accurate due to some parameters are only used in language bindings but\n",
      "  passed down to XGBoost core.  Or some parameters are not used but slip through this\n",
      "  verification. Please open an issue if you find above cases.\n",
      "\n",
      "\n"
     ]
    },
    {
     "data": {
      "text/plain": [
       "GridSearchCV(cv=5,\n",
       "             estimator=XGBRegressor(base_score=0.5, booster='gbtree',\n",
       "                                    colsample_bylevel=1, colsample_bynode=1,\n",
       "                                    colsample_bytree=1, gamma=0, gpu_id=-1,\n",
       "                                    importance_type='gain',\n",
       "                                    interaction_constraints='',\n",
       "                                    learning_rate=0.300000012, max_delta_step=0,\n",
       "                                    max_depth=6, min_child_weight=1,\n",
       "                                    missing=nan, monotone_constraints='()',\n",
       "                                    n_estimators=100, n_jobs=8,\n",
       "                                    num_parallel_...\n",
       "                                    reg_alpha=0, reg_lambda=1,\n",
       "                                    scale_pos_weight=1, subsample=1,\n",
       "                                    tree_method='exact', validate_parameters=1,\n",
       "                                    verbosity=None),\n",
       "             n_jobs=8,\n",
       "             param_grid={'colsample_bytree': [0.7],\n",
       "                         'learning_rate': [0.03, 0.05, 0.07],\n",
       "                         'max_depth': [5, 6, 7], 'min_child_weight': [4],\n",
       "                         'n_estimators': [500], 'nthread': [4],\n",
       "                         'objective': ['reg:linear'], 'silent': [1],\n",
       "                         'subsample': [0.7]},\n",
       "             scoring='r2', verbose=10)"
      ]
     },
     "execution_count": 198,
     "metadata": {},
     "output_type": "execute_result"
    }
   ],
   "source": [
    "gsv.fit(x_train,y_train)"
   ]
  },
  {
   "cell_type": "code",
   "execution_count": 199,
   "id": "a9445370",
   "metadata": {},
   "outputs": [
    {
     "data": {
      "text/plain": [
       "{'colsample_bytree': 0.7,\n",
       " 'learning_rate': 0.03,\n",
       " 'max_depth': 5,\n",
       " 'min_child_weight': 4,\n",
       " 'n_estimators': 500,\n",
       " 'nthread': 4,\n",
       " 'objective': 'reg:linear',\n",
       " 'silent': 1,\n",
       " 'subsample': 0.7}"
      ]
     },
     "execution_count": 199,
     "metadata": {},
     "output_type": "execute_result"
    }
   ],
   "source": [
    "gsv.best_params_"
   ]
  },
  {
   "cell_type": "code",
   "execution_count": null,
   "id": "02f44326",
   "metadata": {},
   "outputs": [],
   "source": []
  }
 ],
 "metadata": {
  "kernelspec": {
   "display_name": "Python 3",
   "language": "python",
   "name": "python3"
  },
  "language_info": {
   "codemirror_mode": {
    "name": "ipython",
    "version": 3
   },
   "file_extension": ".py",
   "mimetype": "text/x-python",
   "name": "python",
   "nbconvert_exporter": "python",
   "pygments_lexer": "ipython3",
   "version": "3.8.8"
  }
 },
 "nbformat": 4,
 "nbformat_minor": 5
}
